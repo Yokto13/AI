{
 "cells": [
  {
   "cell_type": "code",
   "execution_count": 4,
   "metadata": {},
   "outputs": [],
   "source": [
    "from enum import Enum\n",
    "from copy import deepcopy\n",
    "from random import randrange"
   ]
  },
  {
   "cell_type": "code",
   "execution_count": 2,
   "metadata": {},
   "outputs": [],
   "source": [
    "class Player(Enum):\n",
    "    FIRST = 1\n",
    "    SECOND = 2"
   ]
  },
  {
   "cell_type": "code",
   "execution_count": 5,
   "metadata": {},
   "outputs": [
    {
     "ename": "SyntaxError",
     "evalue": "invalid syntax (<ipython-input-5-33b8c8eb8c5d>, line 17)",
     "output_type": "error",
     "traceback": [
      "\u001b[1;36m  File \u001b[1;32m\"<ipython-input-5-33b8c8eb8c5d>\"\u001b[1;36m, line \u001b[1;32m17\u001b[0m\n\u001b[1;33m    while\u001b[0m\n\u001b[1;37m          ^\u001b[0m\n\u001b[1;31mSyntaxError\u001b[0m\u001b[1;31m:\u001b[0m invalid syntax\n"
     ]
    }
   ],
   "source": [
    "def create_empty_board():\n",
    "    board = []\n",
    "    for i in range(3): \n",
    "        board.append([0] * 3)\n",
    "    return board\n",
    "\n",
    "def best_move(board):\n",
    "    \"\"\" Returns an index of non-zero element in board which the current player should play. \"\"\"\n",
    "    \n",
    "def player_to_move(board):\n",
    "    \"\"\" Returns which player should play. \"\"\"\n",
    "    if sum([sum(row) for row in board]) == 0:\n",
    "        return Player.FIRST\n",
    "    return Player.SECOND\n",
    "\n",
    "def random_valid_move(board):\n",
    "    while \n",
    "\n",
    "def random_game(board_copy):\n",
    "    "
   ]
  }
 ],
 "metadata": {
  "kernelspec": {
   "display_name": "Python 3",
   "language": "python",
   "name": "python3"
  },
  "language_info": {
   "codemirror_mode": {
    "name": "ipython",
    "version": 3
   },
   "file_extension": ".py",
   "mimetype": "text/x-python",
   "name": "python",
   "nbconvert_exporter": "python",
   "pygments_lexer": "ipython3",
   "version": "3.7.0"
  }
 },
 "nbformat": 4,
 "nbformat_minor": 4
}
