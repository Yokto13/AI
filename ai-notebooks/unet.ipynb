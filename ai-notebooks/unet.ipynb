{
 "cells": [
  {
   "cell_type": "markdown",
   "metadata": {},
   "source": [
    "# U-net\n",
    "\n",
    "An attempt to get a quick grasp of U-net like architectures. \n",
    "The code is adapted from a great [keras](https://keras.io/examples/vision/oxford_pets_image_segmentation/) tutorial"
   ]
  },
  {
   "cell_type": "code",
   "execution_count": 3,
   "metadata": {},
   "outputs": [
    {
     "name": "stdout",
     "output_type": "stream",
     "text": [
      "Downloads/cursor-0.42.4-build-2410291z3bdg1dy-x86_64.AppImage: This does not look like a tar archive\n",
      "\n",
      "gzip: stdin: not in gzip format\n",
      "Downloads/cursor-0.42.4-build-2410291z3bdg1dy-x86_64.AppImage: Child returned status 1\n",
      "Downloads/cursor-0.42.4-build-2410291z3bdg1dy-x86_64.AppImage: Error is not recoverable: exiting now\n",
      "Downloads/cursor-0.42.4-build-2410291z3bdg1dy-x86_64.AppImage: This does not look like a tar archive\n",
      "\n",
      "gzip: stdin: not in gzip format\n",
      "Downloads/cursor-0.42.4-build-2410291z3bdg1dy-x86_64.AppImage: Child returned status 1\n",
      "Downloads/cursor-0.42.4-build-2410291z3bdg1dy-x86_64.AppImage: Error is not recoverable: exiting now\n"
     ]
    }
   ],
   "source": [
    "!wget https://www.robots.ox.ac.uk/~vgg/data/pets/data/images.tar.gz\n",
    "!wget https://www.robots.ox.ac.uk/~vgg/data/pets/data/annotations.tar.gz\n",
    "\n",
    "!tar -xf images.tar.gz\n",
    "!tar -xf annotations.tar.gz\n"
   ]
  },
  {
   "cell_type": "code",
   "execution_count": 1,
   "metadata": {},
   "outputs": [
    {
     "name": "stdout",
     "output_type": "stream",
     "text": [
      "Number of samples: 7390\n",
      "images/Abyssinian_1.jpg | annotations/trimaps/Abyssinian_1.png\n",
      "images/Abyssinian_10.jpg | annotations/trimaps/Abyssinian_10.png\n",
      "images/Abyssinian_100.jpg | annotations/trimaps/Abyssinian_100.png\n",
      "images/Abyssinian_101.jpg | annotations/trimaps/Abyssinian_101.png\n",
      "images/Abyssinian_102.jpg | annotations/trimaps/Abyssinian_102.png\n",
      "images/Abyssinian_103.jpg | annotations/trimaps/Abyssinian_103.png\n",
      "images/Abyssinian_104.jpg | annotations/trimaps/Abyssinian_104.png\n",
      "images/Abyssinian_105.jpg | annotations/trimaps/Abyssinian_105.png\n",
      "images/Abyssinian_106.jpg | annotations/trimaps/Abyssinian_106.png\n",
      "images/Abyssinian_107.jpg | annotations/trimaps/Abyssinian_107.png\n"
     ]
    }
   ],
   "source": [
    "import os\n",
    "\n",
    "input_dir = \"images/\"\n",
    "target_dir = \"annotations/trimaps/\"\n",
    "img_size = (160, 160)\n",
    "num_classes = 3\n",
    "batch_size = 32\n",
    "\n",
    "input_img_paths = sorted(\n",
    "    [\n",
    "        os.path.join(input_dir, fname)\n",
    "        for fname in os.listdir(input_dir)\n",
    "        if fname.endswith(\".jpg\")\n",
    "    ]\n",
    ")\n",
    "target_img_paths = sorted(\n",
    "    [\n",
    "        os.path.join(target_dir, fname)\n",
    "        for fname in os.listdir(target_dir)\n",
    "        if fname.endswith(\".png\") and not fname.startswith(\".\")\n",
    "    ]\n",
    ")\n",
    "\n",
    "print(\"Number of samples:\", len(input_img_paths))\n",
    "\n",
    "for input_path, target_path in zip(input_img_paths[:10], target_img_paths[:10]):\n",
    "    print(input_path, \"|\", target_path)\n"
   ]
  },
  {
   "cell_type": "code",
   "execution_count": 5,
   "metadata": {},
   "outputs": [
    {
     "ename": "ModuleNotFoundError",
     "evalue": "No module named 'PIL'",
     "output_type": "error",
     "traceback": [
      "\u001b[0;31m---------------------------------------------------------------------------\u001b[0m",
      "\u001b[0;31mModuleNotFoundError\u001b[0m                       Traceback (most recent call last)",
      "Cell \u001b[0;32mIn[5], line 1\u001b[0m\n\u001b[0;32m----> 1\u001b[0m \u001b[38;5;28;01mfrom\u001b[39;00m \u001b[38;5;21;01mPIL\u001b[39;00m \u001b[38;5;28;01mimport\u001b[39;00m Image\n\u001b[1;32m      3\u001b[0m \u001b[38;5;28;01mdef\u001b[39;00m \u001b[38;5;21mload_image\u001b[39m(path: \u001b[38;5;28mstr\u001b[39m) \u001b[38;5;241m-\u001b[39m\u001b[38;5;241m>\u001b[39m \u001b[38;5;124m\"\u001b[39m\u001b[38;5;124mPIL.Image.Image\u001b[39m\u001b[38;5;124m\"\u001b[39m:\n\u001b[1;32m      4\u001b[0m     \u001b[38;5;28;01mreturn\u001b[39;00m Image\u001b[38;5;241m.\u001b[39mopen(path)\n",
      "\u001b[0;31mModuleNotFoundError\u001b[0m: No module named 'PIL'"
     ]
    }
   ],
   "source": [
    "from PIL import Image\n",
    "\n",
    "def load_image(path: str) -> \"PIL.Image.Image\":\n",
    "    return Image.open(path)"
   ]
  },
  {
   "cell_type": "code",
   "execution_count": 7,
   "metadata": {},
   "outputs": [
    {
     "ename": "ModuleNotFoundError",
     "evalue": "No module named 'PIL'",
     "output_type": "error",
     "traceback": [
      "\u001b[0;31m---------------------------------------------------------------------------\u001b[0m",
      "\u001b[0;31mModuleNotFoundError\u001b[0m                       Traceback (most recent call last)",
      "Cell \u001b[0;32mIn[7], line 2\u001b[0m\n\u001b[1;32m      1\u001b[0m \u001b[38;5;28;01mfrom\u001b[39;00m \u001b[38;5;21;01mIPython\u001b[39;00m\u001b[38;5;21;01m.\u001b[39;00m\u001b[38;5;21;01mdisplay\u001b[39;00m \u001b[38;5;28;01mimport\u001b[39;00m Image, display\n\u001b[0;32m----> 2\u001b[0m \u001b[38;5;28;01mfrom\u001b[39;00m \u001b[38;5;21;01mPIL\u001b[39;00m \u001b[38;5;28;01mimport\u001b[39;00m ImageOps\n\u001b[1;32m      4\u001b[0m \u001b[38;5;66;03m# Display input image #7\u001b[39;00m\n\u001b[1;32m      5\u001b[0m display(Image(filename\u001b[38;5;241m=\u001b[39minput_img_paths[\u001b[38;5;241m9\u001b[39m]))\n",
      "\u001b[0;31mModuleNotFoundError\u001b[0m: No module named 'PIL'"
     ]
    }
   ],
   "source": [
    "from IPython.display import Image, display\n",
    "from PIL import ImageOps\n",
    "\n",
    "# Display input image #7\n",
    "display(Image(filename=input_img_paths[9]))\n",
    "\n",
    "# Display auto-contrast version of corresponding target (per-pixel categories)\n",
    "img = ImageOps.autocontrast(load_image(target_img_paths[9]))\n",
    "display(img)\n"
   ]
  },
  {
   "cell_type": "code",
   "execution_count": null,
   "metadata": {},
   "outputs": [],
   "source": []
  }
 ],
 "metadata": {
  "kernelspec": {
   "display_name": ".venv",
   "language": "python",
   "name": "python3"
  },
  "language_info": {
   "codemirror_mode": {
    "name": "ipython",
    "version": 3
   },
   "file_extension": ".py",
   "mimetype": "text/x-python",
   "name": "python",
   "nbconvert_exporter": "python",
   "pygments_lexer": "ipython3",
   "version": "3.12.7"
  }
 },
 "nbformat": 4,
 "nbformat_minor": 2
}
