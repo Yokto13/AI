{
 "cells": [
  {
   "cell_type": "code",
   "execution_count": 1,
   "id": "b797dc8b-8afd-4bc2-a06f-9566322e991f",
   "metadata": {},
   "outputs": [],
   "source": [
    "from functools import partial\n",
    "import numpy as np\n",
    "import matplotlib.pyplot as plt\n",
    "import random\n",
    "from sklearn.datasets import load_breast_cancer\n",
    "from sklearn.decomposition import PCA\n",
    "from sklearn.model_selection import train_test_split\n",
    "\n",
    "from classification_tree import ClassificationTree"
   ]
  },
  {
   "cell_type": "code",
   "execution_count": 2,
   "id": "4a344c13-2a20-4ad2-a6bf-d197a285b43f",
   "metadata": {},
   "outputs": [],
   "source": [
    "random.seed(10)"
   ]
  },
  {
   "cell_type": "code",
   "execution_count": 3,
   "id": "6791ffab-ded1-495b-b719-6153a8af63aa",
   "metadata": {},
   "outputs": [],
   "source": [
    "n_of_classes = 2"
   ]
  },
  {
   "cell_type": "markdown",
   "id": "c5ca4980-1d32-4168-826d-bcc189c90bbb",
   "metadata": {},
   "source": [
    "## Příprava dat"
   ]
  },
  {
   "cell_type": "code",
   "execution_count": 4,
   "id": "0bd07c6c-b23c-47e2-a00c-314b49e2a69b",
   "metadata": {},
   "outputs": [],
   "source": [
    "data = load_breast_cancer()"
   ]
  },
  {
   "cell_type": "code",
   "execution_count": 5,
   "id": "8b8fe6d6-eeb6-4d34-ab90-527c9159cfad",
   "metadata": {},
   "outputs": [
    {
     "name": "stdout",
     "output_type": "stream",
     "text": [
      "X example:  [[1.799e+01 1.038e+01 1.228e+02 1.001e+03 1.184e-01 2.776e-01 3.001e-01\n",
      "  1.471e-01 2.419e-01 7.871e-02 1.095e+00 9.053e-01 8.589e+00 1.534e+02\n",
      "  6.399e-03 4.904e-02 5.373e-02 1.587e-02 3.003e-02 6.193e-03 2.538e+01\n",
      "  1.733e+01 1.846e+02 2.019e+03 1.622e-01 6.656e-01 7.119e-01 2.654e-01\n",
      "  4.601e-01 1.189e-01]\n",
      " [2.057e+01 1.777e+01 1.329e+02 1.326e+03 8.474e-02 7.864e-02 8.690e-02\n",
      "  7.017e-02 1.812e-01 5.667e-02 5.435e-01 7.339e-01 3.398e+00 7.408e+01\n",
      "  5.225e-03 1.308e-02 1.860e-02 1.340e-02 1.389e-02 3.532e-03 2.499e+01\n",
      "  2.341e+01 1.588e+02 1.956e+03 1.238e-01 1.866e-01 2.416e-01 1.860e-01\n",
      "  2.750e-01 8.902e-02]]\n",
      "y example:  [0 0]\n",
      "['malignant' 'benign']\n"
     ]
    }
   ],
   "source": [
    "X = data['data']\n",
    "y = data['target']\n",
    "print(\"X example: \", X[:2])\n",
    "print(\"y example: \", y[:2])\n",
    "print(data['target_names'])"
   ]
  },
  {
   "cell_type": "code",
   "execution_count": 6,
   "id": "ace9a870-c640-4944-8df0-1ff0335c6106",
   "metadata": {},
   "outputs": [],
   "source": [
    "X_train, X_test, y_train, y_test = train_test_split(X, y, test_size=0.5, shuffle=True, random_state=10)"
   ]
  },
  {
   "cell_type": "markdown",
   "id": "9a90bc1d-2ff1-4076-b8f6-300df5006279",
   "metadata": {},
   "source": [
    "Volit 0.5 jako velikost test setu je velmi velkorysé. Tak proč jsem se tak rozhodl? Breast cancer dataset má problém, že je tak jednoduchý, že i jeden samotný strom dokáže dosáhnout téměř bezchybných výsledků, pokud mu poskytneme k trénování cca 80 % všech dat. Porovnávat takový strom s náhodným lesem není příliš zajímavé, protože les může být jen o malinko lepší."
   ]
  },
  {
   "cell_type": "code",
   "execution_count": 7,
   "id": "f4c02da6-6793-40ac-8e9c-0fb447bf5ed6",
   "metadata": {},
   "outputs": [],
   "source": [
    "dim_red = PCA(n_components=2).fit_transform(X_train)"
   ]
  },
  {
   "cell_type": "code",
   "execution_count": 8,
   "id": "e2f189e8-28fa-42e7-9934-b8f2812737b4",
   "metadata": {},
   "outputs": [
    {
     "data": {
      "image/png": "[encoded data removed]",
      "text/plain": [
       "<Figure size 640x480 with 1 Axes>"
      ]
     },
     "metadata": {},
     "output_type": "display_data"
    }
   ],
   "source": [
    "class_0 = dim_red[y_train == 0]\n",
    "class_1 = dim_red[y_train == 1]\n",
    "\n",
    "# Create a scatter plot\n",
    "plt.scatter(class_0[:, 0], class_0[:, 1], c='red', label='rakovinné', marker='o')\n",
    "plt.scatter(class_1[:, 0], class_1[:, 1], c='blue', label='zdravé', marker='o')\n",
    "\n",
    "\n",
    "plt.legend()\n",
    "\n",
    "plt.show()"
   ]
  },
  {
   "cell_type": "markdown",
   "id": "898bd7a9-fee1-42d9-81f7-56867ad3b73c",
   "metadata": {},
   "source": [
    "Vidíme celkem intuitivní věc, že nezhoubné novotvary jsou si podobné a nijak nevyčnívají, naopak rakoviné dokážou být hodně divoké a rozdílné. Jednoduchá projekce do 2D nedokáže útvary spolehlivě rozdělit, pojďme se podívat, jak to zvládnou rozhodovací stromy a náhodné lesy. "
   ]
  },
  {
   "cell_type": "markdown",
   "id": "b600a051-b338-438d-b9e8-1e910179e409",
   "metadata": {},
   "source": [
    "## Pomocné funkce"
   ]
  },
  {
   "cell_type": "code",
   "execution_count": 9,
   "id": "308933b7-e971-496d-9149-311183913309",
   "metadata": {},
   "outputs": [],
   "source": [
    "def accuracy(p, t):\n",
    "    assert len(p) == len(t)\n",
    "    return round(sum(p == t) / len(p) * 100, 2)"
   ]
  },
  {
   "cell_type": "markdown",
   "id": "6d5001cd-3961-45a7-a8d4-7cf289a7406e",
   "metadata": {},
   "source": [
    "## Samotný rozhodovací strom"
   ]
  },
  {
   "cell_type": "code",
   "execution_count": 10,
   "id": "da837dee-1f1d-4ee6-afc1-434a4ab5a08a",
   "metadata": {},
   "outputs": [],
   "source": [
    "dt = ClassificationTree(n_of_classes=n_of_classes, max_depth=4)\n",
    "dt.fit(X_train, y_train)"
   ]
  },
  {
   "cell_type": "code",
   "execution_count": 11,
   "id": "53b1de76-6440-46ee-b874-38ff6d1d026a",
   "metadata": {},
   "outputs": [
    {
     "name": "stdout",
     "output_type": "stream",
     "text": [
      "[0, 1, 1, 0, 1]\n"
     ]
    }
   ],
   "source": [
    "# V notebooku nebudeme řešit žádná rozdělení, predikce bude vždy jedna konkrétní třída:\n",
    "p = dt.hard_predict(X_test)\n",
    "print(p[:5])"
   ]
  },
  {
   "cell_type": "code",
   "execution_count": 12,
   "id": "59028be3-3ad6-443b-a4b7-bcabe5628056",
   "metadata": {},
   "outputs": [
    {
     "name": "stdout",
     "output_type": "stream",
     "text": [
      "Accuracy: 95.09 %\n"
     ]
    }
   ],
   "source": [
    "print(f\"Accuracy: {accuracy(p, y_test)} %\")"
   ]
  },
  {
   "cell_type": "markdown",
   "id": "d7f7a169-1c8c-4d7c-9aa1-cd4750893238",
   "metadata": {},
   "source": [
    "## Více stromů"
   ]
  },
  {
   "cell_type": "code",
   "execution_count": 13,
   "id": "b36ccf9f-e9ab-468f-af6a-1dd57bcd959a",
   "metadata": {},
   "outputs": [],
   "source": [
    "class FakeRandomForest:\n",
    "    def __init__(self, n_of_trees, n_of_classes, max_depth):\n",
    "        self.trees = [ClassificationTree(n_of_classes, max_depth) for _ in range(n_of_trees)]\n",
    "\n",
    "    def fit(self, X, y):\n",
    "        for t in self.trees:\n",
    "            t.fit(X, y)\n",
    "\n",
    "    def hard_predict(self, X):\n",
    "        preds = [t.hard_predict(X) for t in self.trees]\n",
    "        counts = [np.bincount(sample) for sample in zip(*preds)]\n",
    "        return [np.argmax(c) for c in counts]"
   ]
  },
  {
   "cell_type": "code",
   "execution_count": 14,
   "id": "2c938130-4b78-40ba-b1ea-1512120ff23c",
   "metadata": {},
   "outputs": [],
   "source": [
    "n_of_trees = 100\n",
    "frf = FakeRandomForest(n_of_trees, n_of_classes=n_of_classes, max_depth=4)\n",
    "frf.fit(X_train, y_train)"
   ]
  },
  {
   "cell_type": "code",
   "execution_count": 15,
   "id": "c4c4061d-18b3-4a23-839f-1d4630ec72ba",
   "metadata": {},
   "outputs": [
    {
     "name": "stdout",
     "output_type": "stream",
     "text": [
      "[0, 1, 1, 0, 1]\n"
     ]
    }
   ],
   "source": [
    "# V notebooku nebudeme řešit žádná rozdělení, predikce bude vždy jedna konkrétní třída:\n",
    "p = frf.hard_predict(X_test)\n",
    "print(p[:5])"
   ]
  },
  {
   "cell_type": "code",
   "execution_count": 16,
   "id": "763cf162-64ca-4a4e-a444-0b28bc3c4622",
   "metadata": {},
   "outputs": [
    {
     "name": "stdout",
     "output_type": "stream",
     "text": [
      "Accuracy: 95.09 %\n"
     ]
    }
   ],
   "source": [
    "print(f\"Accuracy: {accuracy(p, y_test)} %\")"
   ]
  },
  {
   "cell_type": "markdown",
   "id": "4c7d39b3-6dbd-4df0-9e71-a41d46203c19",
   "metadata": {},
   "source": [
    "**Nic se nezměnilo!** Stavba stromů je deterministická. Každý strom v lese je stejný, takže výsledek se neliší od situace, kdy máme jen jeden strom. Proto potřebujeme vytvořit rozdílné stromy, i když to bude znamenat, že některé stromu sami o sobě nebudou tak dobré."
   ]
  },
  {
   "cell_type": "markdown",
   "id": "90df22b1-5f55-421f-b63e-58ad33c4dc49",
   "metadata": {},
   "source": [
    "## Bootstrap aggregating"
   ]
  },
  {
   "cell_type": "markdown",
   "id": "8f7c6785-f10f-4cbe-bf3f-2161fe15251c",
   "metadata": {},
   "source": [
    "Pro každý strom vytvoříme vlastní dataset a to velice primitivním přístupem. Datasety budou různé a tím se zajistí i různost stromů. Jak vytvořit různé dataset? Řekněme, že původní dataset má N příkladů. Chceme-li, aby každý strom měl nový dataset o N příkladech, tak prostě z původního datasetu N-krát vybereme a získáme tak nový. Všimněte si, že můžeme do jednoho datasetu klidně vybrat vícekrát ten samý příklad."
   ]
  },
  {
   "cell_type": "code",
   "execution_count": 17,
   "id": "0053ffe0-98a1-434d-8b6a-219fdc1107cb",
   "metadata": {},
   "outputs": [],
   "source": [
    "class BaggingForest:\n",
    "    def __init__(self, n_of_trees, n_of_classes, max_depth):\n",
    "        self.trees = [ClassificationTree(n_of_classes, max_depth) for _ in range(n_of_trees)]\n",
    "\n",
    "    def fit(self, X, y):\n",
    "        all_indices = list(range(len(X)))\n",
    "        for t in self.trees:\n",
    "            bagged_indices = [random.choice(all_indices) for _ in range(len(X))]\n",
    "            t.fit(X[bagged_indices], y[bagged_indices])\n",
    "\n",
    "    def hard_predict(self, X):\n",
    "        preds = [t.hard_predict(X) for t in self.trees]\n",
    "        counts = [np.bincount(sample) for sample in zip(*preds)]\n",
    "        return [np.argmax(c) for c in counts]"
   ]
  },
  {
   "cell_type": "code",
   "execution_count": 18,
   "id": "8891d378-42f4-4f52-a8ce-1e45b7861ead",
   "metadata": {},
   "outputs": [],
   "source": [
    "n_of_trees = 100\n",
    "bf = BaggingForest(n_of_trees, n_of_classes=n_of_classes, max_depth=4)\n",
    "bf.fit(X_train, y_train)"
   ]
  },
  {
   "cell_type": "code",
   "execution_count": 19,
   "id": "6c4e228e-877f-4154-90e8-26705904c848",
   "metadata": {},
   "outputs": [
    {
     "name": "stdout",
     "output_type": "stream",
     "text": [
      "[0, 1, 1, 0, 1]\n"
     ]
    }
   ],
   "source": [
    "# V notebooku nebudeme řešit žádná rozdělení, predikce bude vždy jedna konkrétní třída:\n",
    "p = bf.hard_predict(X_test)\n",
    "print(p[:5])"
   ]
  },
  {
   "cell_type": "code",
   "execution_count": 20,
   "id": "0ef23996-fdf7-429e-916b-bce2f9bac3aa",
   "metadata": {},
   "outputs": [
    {
     "name": "stdout",
     "output_type": "stream",
     "text": [
      "Accuracy: 96.84 %\n"
     ]
    }
   ],
   "source": [
    "print(f\"Accuracy: {accuracy(p, y_test)} %\")"
   ]
  },
  {
   "cell_type": "markdown",
   "id": "1c42b9a5-1388-4548-a6f5-c676b9eaa5ea",
   "metadata": {},
   "source": [
    "Tohle vypadá trochu lépe, přesto to není všechno a ukážeme si ještě druhý trik jak stromy znáhodnit."
   ]
  },
  {
   "cell_type": "markdown",
   "id": "01227fce-2f2b-47ef-9d81-f93b6fa248ac",
   "metadata": {},
   "source": [
    "## Feature subsampling -- opravdový náhodný les"
   ]
  },
  {
   "cell_type": "markdown",
   "id": "e4360e1f-47d6-4624-b7ec-c193c01f3916",
   "metadata": {},
   "source": [
    "O co jde? Doposud mohl rozhodovací strom pracovat se všemi vlastnostmi v datech. My ho uděláme ještě náhodnější tím, že při každém rozdělování dovolíme jen několik náhodný vlastností a na jiných mu dělení zakážeme. "
   ]
  },
  {
   "cell_type": "code",
   "execution_count": 21,
   "id": "77844628-b2b0-4250-8645-abc5a47fa8f6",
   "metadata": {},
   "outputs": [],
   "source": [
    "# Tradičně se dovoluje sqrt, nebo log_2 celkového počtu vlastností\n",
    "ftrs_to_allow_f = lambda x: int(np.sqrt(x))"
   ]
  },
  {
   "cell_type": "code",
   "execution_count": 22,
   "id": "0f64f683-91b3-4306-8aec-62caa5d1634a",
   "metadata": {},
   "outputs": [],
   "source": [
    "def ftr_gen(ftrs_to_allow_f, n_of_ftrs):\n",
    "    ftrs = list(range(n_of_ftrs))\n",
    "    random.shuffle(ftrs)\n",
    "    for i in range(ftrs_to_allow_f(n_of_ftrs)):\n",
    "        yield ftrs[i]"
   ]
  },
  {
   "cell_type": "code",
   "execution_count": 23,
   "id": "0ce418f2-b3f4-4885-b4df-8516260e003d",
   "metadata": {},
   "outputs": [],
   "source": [
    "class RandomForest:\n",
    "    def __init__(self, n_of_trees, ftr_gen, n_of_classes, max_depth):\n",
    "        self.trees = [ClassificationTree(n_of_classes, max_depth, ftr_gen) for _ in range(n_of_trees)]\n",
    "\n",
    "    def fit(self, X, y):\n",
    "        all_indices = list(range(len(X)))\n",
    "        for t in self.trees:\n",
    "            bagged_indices = [random.choice(all_indices) for _ in range(len(X))]\n",
    "            t.fit(X[bagged_indices], y[bagged_indices])\n",
    "\n",
    "    def hard_predict(self, X):\n",
    "        preds = [t.hard_predict(X) for t in self.trees]\n",
    "        counts = [np.bincount(sample) for sample in zip(*preds)]\n",
    "        return [np.argmax(c) for c in counts]"
   ]
  },
  {
   "cell_type": "code",
   "execution_count": 24,
   "id": "42d46bbc-54f7-4ee2-9b2e-982801b090e5",
   "metadata": {},
   "outputs": [],
   "source": [
    "n_of_trees = 100\n",
    "rf = RandomForest(n_of_trees, partial(ftr_gen, ftrs_to_allow_f), n_of_classes=n_of_classes, max_depth=4)\n",
    "rf.fit(X_train, y_train)"
   ]
  },
  {
   "cell_type": "code",
   "execution_count": 25,
   "id": "182021db-b62e-429d-b6a6-0874420727a0",
   "metadata": {},
   "outputs": [
    {
     "name": "stdout",
     "output_type": "stream",
     "text": [
      "[0, 1, 1, 0, 1]\n"
     ]
    }
   ],
   "source": [
    "# V notebooku nebudeme řešit žádná rozdělení, predikce bude vždy jedna konkrétní třída:\n",
    "p = rf.hard_predict(X_test)\n",
    "print(p[:5])"
   ]
  },
  {
   "cell_type": "code",
   "execution_count": 26,
   "id": "ff6a331d-e93c-45d4-8447-4fe1302a843b",
   "metadata": {},
   "outputs": [
    {
     "name": "stdout",
     "output_type": "stream",
     "text": [
      "Accuracy: 97.19 %\n"
     ]
    }
   ],
   "source": [
    "print(f\"Accuracy: {accuracy(p, y_test)} %\")"
   ]
  },
  {
   "cell_type": "markdown",
   "id": "557719cc-aa4d-4f6f-b99b-969a32711b1c",
   "metadata": {},
   "source": [
    "## GradientBoostedDecisionTrees"
   ]
  },
  {
   "cell_type": "code",
   "execution_count": 27,
   "id": "ae75548f-6663-4ea9-8ce5-e3af742adcd8",
   "metadata": {},
   "outputs": [],
   "source": [
    "from sklearn.ensemble import GradientBoostingClassifier"
   ]
  },
  {
   "cell_type": "code",
   "execution_count": 28,
   "id": "03a15a93-18fd-4514-8a74-302df143c860",
   "metadata": {},
   "outputs": [
    {
     "data": {
      "text/html": [
       "<style>#sk-container-id-1 {color: black;}#sk-container-id-1 pre{padding: 0;}#sk-container-id-1 div.sk-toggleable {background-color: white;}#sk-container-id-1 label.sk-toggleable__label {cursor: pointer;display: block;width: 100%;margin-bottom: 0;padding: 0.3em;box-sizing: border-box;text-align: center;}#sk-container-id-1 label.sk-toggleable__label-arrow:before {content: \"▸\";float: left;margin-right: 0.25em;color: #696969;}#sk-container-id-1 label.sk-toggleable__label-arrow:hover:before {color: black;}#sk-container-id-1 div.sk-estimator:hover label.sk-toggleable__label-arrow:before {color: black;}#sk-container-id-1 div.sk-toggleable__content {max-height: 0;max-width: 0;overflow: hidden;text-align: left;background-color: #f0f8ff;}#sk-container-id-1 div.sk-toggleable__content pre {margin: 0.2em;color: black;border-radius: 0.25em;background-color: #f0f8ff;}#sk-container-id-1 input.sk-toggleable__control:checked~div.sk-toggleable__content {max-height: 200px;max-width: 100%;overflow: auto;}#sk-container-id-1 input.sk-toggleable__control:checked~label.sk-toggleable__label-arrow:before {content: \"▾\";}#sk-container-id-1 div.sk-estimator input.sk-toggleable__control:checked~label.sk-toggleable__label {background-color: #d4ebff;}#sk-container-id-1 div.sk-label input.sk-toggleable__control:checked~label.sk-toggleable__label {background-color: #d4ebff;}#sk-container-id-1 input.sk-hidden--visually {border: 0;clip: rect(1px 1px 1px 1px);clip: rect(1px, 1px, 1px, 1px);height: 1px;margin: -1px;overflow: hidden;padding: 0;position: absolute;width: 1px;}#sk-container-id-1 div.sk-estimator {font-family: monospace;background-color: #f0f8ff;border: 1px dotted black;border-radius: 0.25em;box-sizing: border-box;margin-bottom: 0.5em;}#sk-container-id-1 div.sk-estimator:hover {background-color: #d4ebff;}#sk-container-id-1 div.sk-parallel-item::after {content: \"\";width: 100%;border-bottom: 1px solid gray;flex-grow: 1;}#sk-container-id-1 div.sk-label:hover label.sk-toggleable__label {background-color: #d4ebff;}#sk-container-id-1 div.sk-serial::before {content: \"\";position: absolute;border-left: 1px solid gray;box-sizing: border-box;top: 0;bottom: 0;left: 50%;z-index: 0;}#sk-container-id-1 div.sk-serial {display: flex;flex-direction: column;align-items: center;background-color: white;padding-right: 0.2em;padding-left: 0.2em;position: relative;}#sk-container-id-1 div.sk-item {position: relative;z-index: 1;}#sk-container-id-1 div.sk-parallel {display: flex;align-items: stretch;justify-content: center;background-color: white;position: relative;}#sk-container-id-1 div.sk-item::before, #sk-container-id-1 div.sk-parallel-item::before {content: \"\";position: absolute;border-left: 1px solid gray;box-sizing: border-box;top: 0;bottom: 0;left: 50%;z-index: -1;}#sk-container-id-1 div.sk-parallel-item {display: flex;flex-direction: column;z-index: 1;position: relative;background-color: white;}#sk-container-id-1 div.sk-parallel-item:first-child::after {align-self: flex-end;width: 50%;}#sk-container-id-1 div.sk-parallel-item:last-child::after {align-self: flex-start;width: 50%;}#sk-container-id-1 div.sk-parallel-item:only-child::after {width: 0;}#sk-container-id-1 div.sk-dashed-wrapped {border: 1px dashed gray;margin: 0 0.4em 0.5em 0.4em;box-sizing: border-box;padding-bottom: 0.4em;background-color: white;}#sk-container-id-1 div.sk-label label {font-family: monospace;font-weight: bold;display: inline-block;line-height: 1.2em;}#sk-container-id-1 div.sk-label-container {text-align: center;}#sk-container-id-1 div.sk-container {/* jupyter's `normalize.less` sets `[hidden] { display: none; }` but bootstrap.min.css set `[hidden] { display: none !important; }` so we also need the `!important` here to be able to override the default hidden behavior on the sphinx rendered scikit-learn.org. See: https://github.com/scikit-learn/scikit-learn/issues/21755 */display: inline-block !important;position: relative;}#sk-container-id-1 div.sk-text-repr-fallback {display: none;}</style><div id=\"sk-container-id-1\" class=\"sk-top-container\"><div class=\"sk-text-repr-fallback\"><pre>GradientBoostingClassifier(max_depth=4)</pre><b>In a Jupyter environment, please rerun this cell to show the HTML representation or trust the notebook. <br />On GitHub, the HTML representation is unable to render, please try loading this page with nbviewer.org.</b></div><div class=\"sk-container\" hidden><div class=\"sk-item\"><div class=\"sk-estimator sk-toggleable\"><input class=\"sk-toggleable__control sk-hidden--visually\" id=\"sk-estimator-id-1\" type=\"checkbox\" checked><label for=\"sk-estimator-id-1\" class=\"sk-toggleable__label sk-toggleable__label-arrow\">GradientBoostingClassifier</label><div class=\"sk-toggleable__content\"><pre>GradientBoostingClassifier(max_depth=4)</pre></div></div></div></div></div>"
      ],
      "text/plain": [
       "GradientBoostingClassifier(max_depth=4)"
      ]
     },
     "execution_count": 28,
     "metadata": {},
     "output_type": "execute_result"
    }
   ],
   "source": [
    "n_of_trees = 100\n",
    "gbdt = GradientBoostingClassifier(n_estimators=n_of_trees, max_depth=4)\n",
    "gbdt.fit(X_train, y_train)"
   ]
  },
  {
   "cell_type": "code",
   "execution_count": 29,
   "id": "bcf3097f-44c2-430f-8cd3-b3eb335dc6f8",
   "metadata": {},
   "outputs": [
    {
     "name": "stdout",
     "output_type": "stream",
     "text": [
      "[0 1 1 0 1]\n"
     ]
    }
   ],
   "source": [
    "# V notebooku nebudeme řešit žádná rozdělení, predikce bude vždy jedna konkrétní třída:\n",
    "p = gbdt.predict(X_test)\n",
    "print(p[:5])"
   ]
  },
  {
   "cell_type": "code",
   "execution_count": 30,
   "id": "cd1f8b57-58e9-4a9c-8cf2-bd810b92e902",
   "metadata": {},
   "outputs": [
    {
     "name": "stdout",
     "output_type": "stream",
     "text": [
      "Accuracy: 98.25 %\n"
     ]
    }
   ],
   "source": [
    "print(f\"Accuracy: {accuracy(p, y_test)} %\")"
   ]
  },
  {
   "cell_type": "code",
   "execution_count": 34,
   "id": "ebe4e855-9d7d-43d0-ba28-a08103e6566e",
   "metadata": {},
   "outputs": [
    {
     "name": "stdout",
     "output_type": "stream",
     "text": [
      "Accuracy: 98.6 %\n"
     ]
    }
   ],
   "source": [
    "n_of_trees = 1000\n",
    "gbdt = GradientBoostingClassifier(n_estimators=n_of_trees, max_depth=2)\n",
    "gbdt.fit(X_train, y_train)\n",
    "p = gbdt.predict(X_test)\n",
    "print(f\"Accuracy: {accuracy(p, y_test)} %\")"
   ]
  },
  {
   "cell_type": "code",
   "execution_count": null,
   "id": "a01ecab3-f53a-45b5-b45b-efbf31508f96",
   "metadata": {},
   "outputs": [],
   "source": []
  }
 ],
 "metadata": {
  "kernelspec": {
   "display_name": "Python 3 (ipykernel)",
   "language": "python",
   "name": "python3"
  },
  "language_info": {
   "codemirror_mode": {
    "name": "ipython",
    "version": 3
   },
   "file_extension": ".py",
   "mimetype": "text/x-python",
   "name": "python",
   "nbconvert_exporter": "python",
   "pygments_lexer": "ipython3",
   "version": "3.11.5"
  }
 },
 "nbformat": 4,
 "nbformat_minor": 5
}
